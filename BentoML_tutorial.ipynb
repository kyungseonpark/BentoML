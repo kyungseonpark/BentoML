{
 "cells": [
  {
   "cell_type": "markdown",
   "source": [
    "# Saving Models with BentoML"
   ],
   "metadata": {
    "collapsed": false,
    "pycharm": {
     "name": "#%% md\n"
    }
   }
  },
  {
   "cell_type": "code",
   "execution_count": 1,
   "outputs": [],
   "source": [
    "# BentoML 가져와\n",
    "import bentoml\n",
    "import xgboost as xgb\n",
    "# Toy Dataset 가져와\n",
    "from sklearn import datasets"
   ],
   "metadata": {
    "collapsed": false,
    "pycharm": {
     "name": "#%%\n"
    }
   }
  },
  {
   "cell_type": "code",
   "execution_count": 2,
   "outputs": [],
   "source": [
    "# Breast Cancer 데이터셋 가져오기.\n",
    "breast_cancer = datasets.load_breast_cancer()\n",
    "X, y = breast_cancer.data, breast_cancer.target"
   ],
   "metadata": {
    "collapsed": false,
    "pycharm": {
     "name": "#%%\n"
    }
   }
  },
  {
   "cell_type": "code",
   "execution_count": 3,
   "outputs": [],
   "source": [
    "# 학습된 xgb 모델 만들기.\n",
    "xgb_clf = xgb.DMatrix(X, label=y)\n",
    "param = {\"max_depth\": 3, \"eta\": 0.3, \"objective\": \"multi:softprob\", \"num_class\": 2}\n",
    "fitted_clf = xgb.train(param, xgb_clf)"
   ],
   "metadata": {
    "collapsed": false,
    "pycharm": {
     "name": "#%%\n"
    }
   }
  },
  {
   "cell_type": "code",
   "execution_count": 28,
   "outputs": [
    {
     "name": "stdout",
     "output_type": "stream",
     "text": [
      "Model saved: breast_cancer_clf:t4rlhfqypgtdjfqt\n"
     ]
    }
   ],
   "source": [
    "# BentoML(XGBoost) 저장하기\n",
    "saved_model = bentoml.xgboost.save_model('breast_cancer_clf', fitted_clf)\n",
    "print(f'Model saved: {saved_model.tag}')"
   ],
   "metadata": {
    "collapsed": false,
    "pycharm": {
     "name": "#%%\n"
    }
   }
  },
  {
   "cell_type": "code",
   "execution_count": 5,
   "outputs": [],
   "source": [
    "# 저장되어있는 최신버전 모델 가져오기\n",
    "bento_model = bentoml.xgboost.load_model(\"breast_cancer_clf:latest\")"
   ],
   "metadata": {
    "collapsed": false,
    "pycharm": {
     "name": "#%%\n"
    }
   }
  },
  {
   "cell_type": "markdown",
   "source": [
    "# Model to Runner, Runner to Service"
   ],
   "metadata": {
    "collapsed": false,
    "pycharm": {
     "name": "#%% md\n"
    }
   }
  },
  {
   "cell_type": "code",
   "execution_count": 14,
   "outputs": [],
   "source": [
    "import bentoml\n",
    "from bentoml.io import JSON"
   ],
   "metadata": {
    "collapsed": false,
    "pycharm": {
     "name": "#%%\n"
    }
   }
  },
  {
   "cell_type": "code",
   "execution_count": 12,
   "outputs": [],
   "source": [
    "# Model을 Runner로\n",
    "breast_runner = bentoml.xgboost.get('breast_cancer_clf:latest').to_runner()"
   ],
   "metadata": {
    "collapsed": false,
    "pycharm": {
     "name": "#%%\n"
    }
   }
  },
  {
   "cell_type": "code",
   "execution_count": 13,
   "outputs": [],
   "source": [
    "# Runner를 Service로\n",
    "bento_service = bentoml.Service(\"breast_cancer_clf_service\", runners=[breast_runner])"
   ],
   "metadata": {
    "collapsed": false,
    "pycharm": {
     "name": "#%%\n"
    }
   }
  },
  {
   "cell_type": "code",
   "execution_count": 15,
   "outputs": [],
   "source": [
    "# Service에 Custom API 추가\n",
    "@bento_service.api(input=JSON(), output=JSON())\n",
    "def predict(input_data: dict) -> dict:\n",
    "    res = dict()\n",
    "    res['y_pred'] = breast_runner.predict.run(input_data)\n",
    "    return res"
   ],
   "metadata": {
    "collapsed": false,
    "pycharm": {
     "name": "#%%\n"
    }
   }
  }
 ],
 "metadata": {
  "kernelspec": {
   "display_name": "Python 3",
   "language": "python",
   "name": "python3"
  },
  "language_info": {
   "codemirror_mode": {
    "name": "ipython",
    "version": 2
   },
   "file_extension": ".py",
   "mimetype": "text/x-python",
   "name": "python",
   "nbconvert_exporter": "python",
   "pygments_lexer": "ipython2",
   "version": "2.7.6"
  }
 },
 "nbformat": 4,
 "nbformat_minor": 0
}